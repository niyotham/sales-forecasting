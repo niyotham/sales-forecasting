{
 "cells": [
  {
   "cell_type": "code",
   "execution_count": 11,
   "metadata": {},
   "outputs": [],
   "source": [
    "import xgboost as xgb\n",
    "import pandas as pd\n",
    "import numpy as np\n",
    "import matplotlib.pyplot as plt\n",
    "import seaborn as sns\n",
    "\n",
    "import sys\n",
    "sys.path.append('../')\n",
    "from scripts.utils import rmspe_xg\n",
    "from scripts.preprocessing import encode\n",
    "from sklearn.model_selection import train_test_split\n",
    "from sklearn.preprocessing import LabelEncoder"
   ]
  },
  {
   "cell_type": "code",
   "execution_count": 2,
   "metadata": {},
   "outputs": [],
   "source": [
    "data= pd.read_csv('../data/xgb_df_with_date.csv')"
   ]
  },
  {
   "cell_type": "code",
   "execution_count": 4,
   "metadata": {},
   "outputs": [
    {
     "data": {
      "text/html": [
       "<div>\n",
       "<style scoped>\n",
       "    .dataframe tbody tr th:only-of-type {\n",
       "        vertical-align: middle;\n",
       "    }\n",
       "\n",
       "    .dataframe tbody tr th {\n",
       "        vertical-align: top;\n",
       "    }\n",
       "\n",
       "    .dataframe thead th {\n",
       "        text-align: right;\n",
       "    }\n",
       "</style>\n",
       "<table border=\"1\" class=\"dataframe\">\n",
       "  <thead>\n",
       "    <tr style=\"text-align: right;\">\n",
       "      <th></th>\n",
       "      <th>Store</th>\n",
       "      <th>DayOfWeek</th>\n",
       "      <th>Date</th>\n",
       "      <th>Sales</th>\n",
       "      <th>Customers</th>\n",
       "      <th>Open</th>\n",
       "      <th>Promo</th>\n",
       "      <th>StateHoliday</th>\n",
       "      <th>SchoolHoliday</th>\n",
       "      <th>is_train</th>\n",
       "      <th>...</th>\n",
       "      <th>HolidaysPerDayOfWeek</th>\n",
       "      <th>SchoolHolidaysPerDayOfWeek</th>\n",
       "      <th>PromoPerDayOfWeek</th>\n",
       "      <th>HolidaysNextWeek</th>\n",
       "      <th>HolidaysThisWeek</th>\n",
       "      <th>HolidaysLastWeek</th>\n",
       "      <th>DaysTillMaxPromo</th>\n",
       "      <th>PromoTomorrow</th>\n",
       "      <th>PromoYesterday</th>\n",
       "      <th>SalesLog</th>\n",
       "    </tr>\n",
       "  </thead>\n",
       "  <tbody>\n",
       "    <tr>\n",
       "      <th>0</th>\n",
       "      <td>1</td>\n",
       "      <td>5</td>\n",
       "      <td>2015-07-31</td>\n",
       "      <td>5263.0</td>\n",
       "      <td>555.0</td>\n",
       "      <td>1.0</td>\n",
       "      <td>1</td>\n",
       "      <td>0</td>\n",
       "      <td>1</td>\n",
       "      <td>1</td>\n",
       "      <td>...</td>\n",
       "      <td>12291</td>\n",
       "      <td>39429</td>\n",
       "      <td>80145</td>\n",
       "      <td>4860</td>\n",
       "      <td>5483</td>\n",
       "      <td>4860</td>\n",
       "      <td>-1</td>\n",
       "      <td>1.0</td>\n",
       "      <td>NaN</td>\n",
       "      <td>8.568646</td>\n",
       "    </tr>\n",
       "    <tr>\n",
       "      <th>1</th>\n",
       "      <td>2</td>\n",
       "      <td>5</td>\n",
       "      <td>2015-07-31</td>\n",
       "      <td>6064.0</td>\n",
       "      <td>625.0</td>\n",
       "      <td>1.0</td>\n",
       "      <td>1</td>\n",
       "      <td>0</td>\n",
       "      <td>1</td>\n",
       "      <td>1</td>\n",
       "      <td>...</td>\n",
       "      <td>12291</td>\n",
       "      <td>39429</td>\n",
       "      <td>80145</td>\n",
       "      <td>4860</td>\n",
       "      <td>5483</td>\n",
       "      <td>4860</td>\n",
       "      <td>-1</td>\n",
       "      <td>1.0</td>\n",
       "      <td>1.0</td>\n",
       "      <td>8.710290</td>\n",
       "    </tr>\n",
       "    <tr>\n",
       "      <th>2</th>\n",
       "      <td>3</td>\n",
       "      <td>5</td>\n",
       "      <td>2015-07-31</td>\n",
       "      <td>8314.0</td>\n",
       "      <td>821.0</td>\n",
       "      <td>1.0</td>\n",
       "      <td>1</td>\n",
       "      <td>0</td>\n",
       "      <td>1</td>\n",
       "      <td>1</td>\n",
       "      <td>...</td>\n",
       "      <td>12291</td>\n",
       "      <td>39429</td>\n",
       "      <td>80145</td>\n",
       "      <td>4860</td>\n",
       "      <td>5483</td>\n",
       "      <td>4860</td>\n",
       "      <td>-1</td>\n",
       "      <td>1.0</td>\n",
       "      <td>1.0</td>\n",
       "      <td>9.025816</td>\n",
       "    </tr>\n",
       "    <tr>\n",
       "      <th>3</th>\n",
       "      <td>4</td>\n",
       "      <td>5</td>\n",
       "      <td>2015-07-31</td>\n",
       "      <td>13995.0</td>\n",
       "      <td>1498.0</td>\n",
       "      <td>1.0</td>\n",
       "      <td>1</td>\n",
       "      <td>0</td>\n",
       "      <td>1</td>\n",
       "      <td>1</td>\n",
       "      <td>...</td>\n",
       "      <td>12291</td>\n",
       "      <td>39429</td>\n",
       "      <td>80145</td>\n",
       "      <td>4860</td>\n",
       "      <td>5483</td>\n",
       "      <td>4860</td>\n",
       "      <td>-1</td>\n",
       "      <td>1.0</td>\n",
       "      <td>1.0</td>\n",
       "      <td>9.546527</td>\n",
       "    </tr>\n",
       "    <tr>\n",
       "      <th>4</th>\n",
       "      <td>5</td>\n",
       "      <td>5</td>\n",
       "      <td>2015-07-31</td>\n",
       "      <td>4822.0</td>\n",
       "      <td>559.0</td>\n",
       "      <td>1.0</td>\n",
       "      <td>1</td>\n",
       "      <td>0</td>\n",
       "      <td>1</td>\n",
       "      <td>1</td>\n",
       "      <td>...</td>\n",
       "      <td>12291</td>\n",
       "      <td>39429</td>\n",
       "      <td>80145</td>\n",
       "      <td>4860</td>\n",
       "      <td>5483</td>\n",
       "      <td>4860</td>\n",
       "      <td>-1</td>\n",
       "      <td>1.0</td>\n",
       "      <td>1.0</td>\n",
       "      <td>8.481151</td>\n",
       "    </tr>\n",
       "  </tbody>\n",
       "</table>\n",
       "<p>5 rows × 39 columns</p>\n",
       "</div>"
      ],
      "text/plain": [
       "   Store  DayOfWeek        Date    Sales  Customers  Open  Promo  \\\n",
       "0      1          5  2015-07-31   5263.0      555.0   1.0      1   \n",
       "1      2          5  2015-07-31   6064.0      625.0   1.0      1   \n",
       "2      3          5  2015-07-31   8314.0      821.0   1.0      1   \n",
       "3      4          5  2015-07-31  13995.0     1498.0   1.0      1   \n",
       "4      5          5  2015-07-31   4822.0      559.0   1.0      1   \n",
       "\n",
       "   StateHoliday  SchoolHoliday  is_train  ...  HolidaysPerDayOfWeek  \\\n",
       "0             0              1         1  ...                 12291   \n",
       "1             0              1         1  ...                 12291   \n",
       "2             0              1         1  ...                 12291   \n",
       "3             0              1         1  ...                 12291   \n",
       "4             0              1         1  ...                 12291   \n",
       "\n",
       "   SchoolHolidaysPerDayOfWeek  PromoPerDayOfWeek  HolidaysNextWeek  \\\n",
       "0                       39429              80145              4860   \n",
       "1                       39429              80145              4860   \n",
       "2                       39429              80145              4860   \n",
       "3                       39429              80145              4860   \n",
       "4                       39429              80145              4860   \n",
       "\n",
       "   HolidaysThisWeek  HolidaysLastWeek  DaysTillMaxPromo  PromoTomorrow  \\\n",
       "0              5483              4860                -1            1.0   \n",
       "1              5483              4860                -1            1.0   \n",
       "2              5483              4860                -1            1.0   \n",
       "3              5483              4860                -1            1.0   \n",
       "4              5483              4860                -1            1.0   \n",
       "\n",
       "   PromoYesterday  SalesLog  \n",
       "0             NaN  8.568646  \n",
       "1             1.0  8.710290  \n",
       "2             1.0  9.025816  \n",
       "3             1.0  9.546527  \n",
       "4             1.0  8.481151  \n",
       "\n",
       "[5 rows x 39 columns]"
      ]
     },
     "execution_count": 4,
     "metadata": {},
     "output_type": "execute_result"
    }
   ],
   "source": [
    "df =data.copy()\n",
    "df.head()"
   ]
  },
  {
   "cell_type": "code",
   "execution_count": 5,
   "metadata": {},
   "outputs": [
    {
     "data": {
      "text/plain": [
       "Index(['Store', 'DayOfWeek', 'Date', 'Sales', 'Customers', 'Open', 'Promo',\n",
       "       'StateHoliday', 'SchoolHoliday', 'is_train', 'Id', 'Year', 'Month',\n",
       "       'Day', 'WeekOfYear', 'Day of Week', 'Is Weekend', 'StoreType',\n",
       "       'Assortment', 'CompetitionDistance', 'CompetitionOpen', 'PromoSince',\n",
       "       '0_PromoInterval', 'DateInt', 'Zscore', 'Outlier', 'SalesPerDay',\n",
       "       'CustomersPerDay', 'SalesPerCustomersPerDay', 'HolidaysPerDayOfWeek',\n",
       "       'SchoolHolidaysPerDayOfWeek', 'PromoPerDayOfWeek', 'HolidaysNextWeek',\n",
       "       'HolidaysThisWeek', 'HolidaysLastWeek', 'DaysTillMaxPromo',\n",
       "       'PromoTomorrow', 'PromoYesterday', 'SalesLog'],\n",
       "      dtype='object')"
      ]
     },
     "execution_count": 5,
     "metadata": {},
     "output_type": "execute_result"
    }
   ],
   "source": [
    "df.columns"
   ]
  },
  {
   "cell_type": "code",
   "execution_count": null,
   "metadata": {},
   "outputs": [],
   "source": []
  },
  {
   "cell_type": "code",
   "execution_count": 8,
   "metadata": {},
   "outputs": [],
   "source": [
    "cats = df.select_dtypes(\n",
    "    include=['object', 'bool']).columns.tolist()"
   ]
  },
  {
   "cell_type": "code",
   "execution_count": 9,
   "metadata": {},
   "outputs": [
    {
     "data": {
      "text/plain": [
       "['Date', 'Outlier']"
      ]
     },
     "execution_count": 9,
     "metadata": {},
     "output_type": "execute_result"
    }
   ],
   "source": [
    "cats"
   ]
  },
  {
   "cell_type": "code",
   "execution_count": null,
   "metadata": {},
   "outputs": [],
   "source": []
  }
 ],
 "metadata": {
  "kernelspec": {
   "display_name": "Python 3.9.12 ('base')",
   "language": "python",
   "name": "python3"
  },
  "language_info": {
   "codemirror_mode": {
    "name": "ipython",
    "version": 3
   },
   "file_extension": ".py",
   "mimetype": "text/x-python",
   "name": "python",
   "nbconvert_exporter": "python",
   "pygments_lexer": "ipython3",
   "version": "3.9.12"
  },
  "orig_nbformat": 4,
  "vscode": {
   "interpreter": {
    "hash": "40d3a090f54c6569ab1632332b64b2c03c39dcf918b08424e98f38b5ae0af88f"
   }
  }
 },
 "nbformat": 4,
 "nbformat_minor": 2
}
