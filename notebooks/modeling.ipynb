{
 "cells": [
  {
   "cell_type": "code",
   "execution_count": 3,
   "metadata": {},
   "outputs": [],
   "source": [
    "import xgboost as xgb\n",
    "import pandas as pd\n",
    "import numpy as np\n",
    "import matplotlib.pyplot as plt\n",
    "import seaborn as sns\n",
    "\n",
    "import sys\n",
    "sys.path.append('../')\n",
    "from scripts.utils import rmspe_xg\n",
    "from sklearn.model_selection import train_test_split\n",
    "from sklearn.preprocessing import LabelEncoder\n"
   ]
  },
  {
   "cell_type": "code",
   "execution_count": 6,
   "metadata": {},
   "outputs": [],
   "source": [
    "data= pd.read_csv('../data/xgb_df.csv')"
   ]
  },
  {
   "cell_type": "code",
   "execution_count": 7,
   "metadata": {},
   "outputs": [],
   "source": [
    "df= data.copy()"
   ]
  },
  {
   "cell_type": "code",
   "execution_count": 8,
   "metadata": {},
   "outputs": [],
   "source": [
    "store_features = ['Store', 'StoreType', 'Assortment', 'CompetitionDistance', 'CompetitionOpen', \n",
    "                  'PromoSince', '0_PromoInterval']"
   ]
  },
  {
   "cell_type": "code",
   "execution_count": 11,
   "metadata": {},
   "outputs": [],
   "source": [
    "features_x = ['Store', 'DayOfWeek', 'Open', 'Promo', 'SchoolHoliday', 'StateHoliday']\n",
    "features_y = ['SalesLog']"
   ]
  },
  {
   "cell_type": "markdown",
   "metadata": {},
   "source": [
    "## Gradient Boosting\n",
    "\n",
    "We're now ready to train our gradient boosting machine (GBM) model."
   ]
  },
  {
   "cell_type": "markdown",
   "metadata": {},
   "source": [
    "### Training\n",
    "\n",
    "To train a GBM, we can use the `xgboost`  from the [`XGBoost`](https://xgboost.readthedocs.io/en/latest/) library."
   ]
  },
  {
   "cell_type": "code",
   "execution_count": 12,
   "metadata": {},
   "outputs": [
    {
     "name": "stdout",
     "output_type": "stream",
     "text": [
      "(757442, 6) (757442, 1) (84161, 6) (84161, 1)\n"
     ]
    },
    {
     "name": "stderr",
     "output_type": "stream",
     "text": [
      "/opt/anaconda3/lib/python3.9/site-packages/xgboost/data.py:250: FutureWarning: pandas.Int64Index is deprecated and will be removed from pandas in a future version. Use pandas.Index with the appropriate dtype instead.\n",
      "  elif isinstance(data.columns, (pd.Int64Index, pd.RangeIndex)):\n"
     ]
    },
    {
     "name": "stdout",
     "output_type": "stream",
     "text": [
      "[0]\ttrain-rmse:8.18201\ttrain-rmspe:0.99986\ttest-rmse:8.17812\ttest-rmspe:0.99986\n",
      "[250]\ttrain-rmse:0.75287\ttrain-rmspe:0.50599\ttest-rmse:0.75023\ttest-rmspe:0.49778\n",
      "[500]\ttrain-rmse:0.33949\ttrain-rmspe:0.39960\ttest-rmse:0.33934\ttest-rmspe:0.37008\n",
      "[633]\ttrain-rmse:0.32548\ttrain-rmspe:0.40614\ttest-rmse:0.32571\ttest-rmspe:0.37473\n"
     ]
    }
   ],
   "source": [
    "data = df.loc[(df['is_train'] == 1) & (df['Open'] == 1) & (df['Outlier'] == False)]\n",
    "x_train, x_test, y_train, y_test = train_test_split(data[features_x], \n",
    "                                                    data[features_y], \n",
    "                                                    test_size=0.1, \n",
    "                                                    random_state=42)\n",
    "print(x_train.shape, y_train.shape, x_test.shape, y_test.shape)\n",
    "\n",
    "dtrain = xgb.DMatrix(x_train, y_train)\n",
    "dtest = xgb.DMatrix(x_test, y_test)\n",
    "\n",
    "num_round = 20000\n",
    "evallist = [(dtrain, 'train'), (dtest, 'test')]\n",
    "\n",
    "param = {'max_depth': 9,\n",
    "         'eta': 0.01,\n",
    "         'subsample': 0.75,\n",
    "         'colsample_bytree': 0.6, \n",
    "         'objective': 'reg:squarederror',}\n",
    "\n",
    "plst = list(param.items())\n",
    "\n",
    "model = xgb.train(plst, dtrain, num_round, evallist, \n",
    "                  feval=rmspe_xg, verbose_eval=250, early_stopping_rounds=250)"
   ]
  },
  {
   "cell_type": "code",
   "execution_count": 17,
   "metadata": {},
   "outputs": [
    {
     "data": {
      "text/plain": [
       "['Store', 'DayOfWeek', 'Open', 'Promo', 'SchoolHoliday', 'StateHoliday']"
      ]
     },
     "execution_count": 17,
     "metadata": {},
     "output_type": "execute_result"
    }
   ],
   "source": [
    "dtest.feature_names"
   ]
  },
  {
   "cell_type": "code",
   "execution_count": 20,
   "metadata": {},
   "outputs": [
    {
     "data": {
      "text/plain": [
       "array([8.342982 , 8.5574255, 8.507454 , ..., 8.603826 , 8.734555 ,\n",
       "       8.549139 ], dtype=float32)"
      ]
     },
     "execution_count": 20,
     "metadata": {},
     "output_type": "execute_result"
    }
   ],
   "source": [
    "# make prediction\n",
    "preds = model.predict(dtest)\n",
    "preds"
   ]
  },
  {
   "cell_type": "code",
   "execution_count": 13,
   "metadata": {},
   "outputs": [
    {
     "data": {
      "text/plain": [
       "<Figure size 1800x800 with 0 Axes>"
      ]
     },
     "metadata": {},
     "output_type": "display_data"
    },
    {
     "data": {
      "image/png": "[encoded data removed]",
      "text/plain": [
       "<Figure size 640x480 with 1 Axes>"
      ]
     },
     "metadata": {},
     "output_type": "display_data"
    }
   ],
   "source": [
    "#Print Feature Importance\n",
    "plt.figure(figsize=(18,8))\n",
    "from xgboost import plot_importance\n",
    "plot_importance(model)\n",
    "plt.show()"
   ]
  },
  {
   "cell_type": "code",
   "execution_count": null,
   "metadata": {},
   "outputs": [],
   "source": [
    "submit = df.loc[df['is_train'] == 0]\n",
    "dsubmit = xgb.DMatrix(submit[features_x])\n",
    "predictions = model.predict(dsubmit)\n",
    "\n",
    "df_predictions = submit['Id'].reset_index()\n",
    "df_predictions['Id'] = df_predictions['Id'].astype('int')\n",
    "df_predictions['Sales'] = (np.exp(predictions) - 1) * 0.985 #Scale Back\n",
    "\n",
    "df_predictions.sort_values('Id', inplace=True)\n",
    "df_predictions[['Id', 'Sales']].to_csv('solution.csv', index=False)"
   ]
  },
  {
   "cell_type": "markdown",
   "metadata": {},
   "source": [
    "`Use DVC  dataframes for the second training.`"
   ]
  },
  {
   "cell_type": "code",
   "execution_count": null,
   "metadata": {},
   "outputs": [],
   "source": [
    "# First load the cleaned stores data\n",
    "data_path = 'data/cleaned/store.csv'\n",
    "version = 'store_v2'\n",
    "repo = '../'\n",
    "\n",
    "store_df = dvc_load.dvc_get_data(data_path, version, repo)\n",
    "\n",
    "# Then load the raw sales data\n",
    "data_path = 'data/merged/train.csv'\n",
    "version = 'train_v2'\n",
    "repo = '../'\n",
    "\n",
    "train_df = dvc_load.dvc_get_data(data_path, version, repo)\n",
    "\n",
    "# Finally load the test data\n",
    "data_path = 'data/merged/test.csv'\n",
    "version = 'test_v2'\n",
    "repo = '../'\n",
    "\n",
    "test_df = dvc_load.dvc_get_data(data_path, version, repo)"
   ]
  }
 ],
 "metadata": {
  "kernelspec": {
   "display_name": "Python 3.9.12 ('base')",
   "language": "python",
   "name": "python3"
  },
  "language_info": {
   "codemirror_mode": {
    "name": "ipython",
    "version": 3
   },
   "file_extension": ".py",
   "mimetype": "text/x-python",
   "name": "python",
   "nbconvert_exporter": "python",
   "pygments_lexer": "ipython3",
   "version": "3.9.12"
  },
  "orig_nbformat": 4,
  "vscode": {
   "interpreter": {
    "hash": "40d3a090f54c6569ab1632332b64b2c03c39dcf918b08424e98f38b5ae0af88f"
   }
  }
 },
 "nbformat": 4,
 "nbformat_minor": 2
}
